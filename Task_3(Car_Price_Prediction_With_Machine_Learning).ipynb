{
 "cells": [
  {
   "cell_type": "markdown",
   "metadata": {
    "colab_type": "text",
    "id": "view-in-github"
   },
   "source": [
    "<a href=\"https://colab.research.google.com/github/aleenaj23/OIBSIP/blob/main/Car_Price_Prediction_With_Machine_Learning.ipynb\" target=\"_parent\"><img src=\"https://colab.research.google.com/assets/colab-badge.svg\" alt=\"Open In Colab\"/></a>"
   ]
  },
  {
   "cell_type": "code",
   "execution_count": 1,
   "metadata": {
    "id": "3bSAcTGgbfw1"
   },
   "outputs": [],
   "source": [
    "import pandas as pd\n",
    "import numpy as np\n",
    "import matplotlib.pyplot as plt\n",
    "import seaborn as sns"
   ]
  },
  {
   "cell_type": "code",
   "execution_count": 3,
   "metadata": {
    "id": "2DWXBRCebx61"
   },
   "outputs": [],
   "source": [
    "from sklearn.feature_extraction.text import TfidfVectorizer, CountVectorizer\n",
    "from sklearn.model_selection import train_test_split\n",
    "from sklearn.metrics import roc_auc_score, f1_score, confusion_matrix\n",
    "from sklearn.naive_bayes import MultinomialNB\n",
    "# from wordcloud import WordCloud"
   ]
  },
  {
   "cell_type": "code",
   "execution_count": 5,
   "metadata": {
    "colab": {
     "base_uri": "https://localhost:8080/",
     "height": 424
    },
    "id": "Wy17cWqibyBe",
    "outputId": "91f6e149-360a-4f37-eed7-dfc38e6a505a"
   },
   "outputs": [
    {
     "data": {
      "text/html": [
       "<div>\n",
       "<style scoped>\n",
       "    .dataframe tbody tr th:only-of-type {\n",
       "        vertical-align: middle;\n",
       "    }\n",
       "\n",
       "    .dataframe tbody tr th {\n",
       "        vertical-align: top;\n",
       "    }\n",
       "\n",
       "    .dataframe thead th {\n",
       "        text-align: right;\n",
       "    }\n",
       "</style>\n",
       "<table border=\"1\" class=\"dataframe\">\n",
       "  <thead>\n",
       "    <tr style=\"text-align: right;\">\n",
       "      <th></th>\n",
       "      <th>Car_Name</th>\n",
       "      <th>Year</th>\n",
       "      <th>Selling_Price</th>\n",
       "      <th>Present_Price</th>\n",
       "      <th>Driven_kms</th>\n",
       "      <th>Fuel_Type</th>\n",
       "      <th>Selling_type</th>\n",
       "      <th>Transmission</th>\n",
       "      <th>Owner</th>\n",
       "    </tr>\n",
       "  </thead>\n",
       "  <tbody>\n",
       "    <tr>\n",
       "      <th>0</th>\n",
       "      <td>ritz</td>\n",
       "      <td>2014</td>\n",
       "      <td>3.35</td>\n",
       "      <td>5.59</td>\n",
       "      <td>27000</td>\n",
       "      <td>Petrol</td>\n",
       "      <td>Dealer</td>\n",
       "      <td>Manual</td>\n",
       "      <td>0</td>\n",
       "    </tr>\n",
       "    <tr>\n",
       "      <th>1</th>\n",
       "      <td>sx4</td>\n",
       "      <td>2013</td>\n",
       "      <td>4.75</td>\n",
       "      <td>9.54</td>\n",
       "      <td>43000</td>\n",
       "      <td>Diesel</td>\n",
       "      <td>Dealer</td>\n",
       "      <td>Manual</td>\n",
       "      <td>0</td>\n",
       "    </tr>\n",
       "    <tr>\n",
       "      <th>2</th>\n",
       "      <td>ciaz</td>\n",
       "      <td>2017</td>\n",
       "      <td>7.25</td>\n",
       "      <td>9.85</td>\n",
       "      <td>6900</td>\n",
       "      <td>Petrol</td>\n",
       "      <td>Dealer</td>\n",
       "      <td>Manual</td>\n",
       "      <td>0</td>\n",
       "    </tr>\n",
       "    <tr>\n",
       "      <th>3</th>\n",
       "      <td>wagon r</td>\n",
       "      <td>2011</td>\n",
       "      <td>2.85</td>\n",
       "      <td>4.15</td>\n",
       "      <td>5200</td>\n",
       "      <td>Petrol</td>\n",
       "      <td>Dealer</td>\n",
       "      <td>Manual</td>\n",
       "      <td>0</td>\n",
       "    </tr>\n",
       "    <tr>\n",
       "      <th>4</th>\n",
       "      <td>swift</td>\n",
       "      <td>2014</td>\n",
       "      <td>4.60</td>\n",
       "      <td>6.87</td>\n",
       "      <td>42450</td>\n",
       "      <td>Diesel</td>\n",
       "      <td>Dealer</td>\n",
       "      <td>Manual</td>\n",
       "      <td>0</td>\n",
       "    </tr>\n",
       "    <tr>\n",
       "      <th>...</th>\n",
       "      <td>...</td>\n",
       "      <td>...</td>\n",
       "      <td>...</td>\n",
       "      <td>...</td>\n",
       "      <td>...</td>\n",
       "      <td>...</td>\n",
       "      <td>...</td>\n",
       "      <td>...</td>\n",
       "      <td>...</td>\n",
       "    </tr>\n",
       "    <tr>\n",
       "      <th>296</th>\n",
       "      <td>city</td>\n",
       "      <td>2016</td>\n",
       "      <td>9.50</td>\n",
       "      <td>11.60</td>\n",
       "      <td>33988</td>\n",
       "      <td>Diesel</td>\n",
       "      <td>Dealer</td>\n",
       "      <td>Manual</td>\n",
       "      <td>0</td>\n",
       "    </tr>\n",
       "    <tr>\n",
       "      <th>297</th>\n",
       "      <td>brio</td>\n",
       "      <td>2015</td>\n",
       "      <td>4.00</td>\n",
       "      <td>5.90</td>\n",
       "      <td>60000</td>\n",
       "      <td>Petrol</td>\n",
       "      <td>Dealer</td>\n",
       "      <td>Manual</td>\n",
       "      <td>0</td>\n",
       "    </tr>\n",
       "    <tr>\n",
       "      <th>298</th>\n",
       "      <td>city</td>\n",
       "      <td>2009</td>\n",
       "      <td>3.35</td>\n",
       "      <td>11.00</td>\n",
       "      <td>87934</td>\n",
       "      <td>Petrol</td>\n",
       "      <td>Dealer</td>\n",
       "      <td>Manual</td>\n",
       "      <td>0</td>\n",
       "    </tr>\n",
       "    <tr>\n",
       "      <th>299</th>\n",
       "      <td>city</td>\n",
       "      <td>2017</td>\n",
       "      <td>11.50</td>\n",
       "      <td>12.50</td>\n",
       "      <td>9000</td>\n",
       "      <td>Diesel</td>\n",
       "      <td>Dealer</td>\n",
       "      <td>Manual</td>\n",
       "      <td>0</td>\n",
       "    </tr>\n",
       "    <tr>\n",
       "      <th>300</th>\n",
       "      <td>brio</td>\n",
       "      <td>2016</td>\n",
       "      <td>5.30</td>\n",
       "      <td>5.90</td>\n",
       "      <td>5464</td>\n",
       "      <td>Petrol</td>\n",
       "      <td>Dealer</td>\n",
       "      <td>Manual</td>\n",
       "      <td>0</td>\n",
       "    </tr>\n",
       "  </tbody>\n",
       "</table>\n",
       "<p>301 rows × 9 columns</p>\n",
       "</div>"
      ],
      "text/plain": [
       "    Car_Name  Year  Selling_Price  Present_Price  Driven_kms Fuel_Type  \\\n",
       "0       ritz  2014           3.35           5.59       27000    Petrol   \n",
       "1        sx4  2013           4.75           9.54       43000    Diesel   \n",
       "2       ciaz  2017           7.25           9.85        6900    Petrol   \n",
       "3    wagon r  2011           2.85           4.15        5200    Petrol   \n",
       "4      swift  2014           4.60           6.87       42450    Diesel   \n",
       "..       ...   ...            ...            ...         ...       ...   \n",
       "296     city  2016           9.50          11.60       33988    Diesel   \n",
       "297     brio  2015           4.00           5.90       60000    Petrol   \n",
       "298     city  2009           3.35          11.00       87934    Petrol   \n",
       "299     city  2017          11.50          12.50        9000    Diesel   \n",
       "300     brio  2016           5.30           5.90        5464    Petrol   \n",
       "\n",
       "    Selling_type Transmission  Owner  \n",
       "0         Dealer       Manual      0  \n",
       "1         Dealer       Manual      0  \n",
       "2         Dealer       Manual      0  \n",
       "3         Dealer       Manual      0  \n",
       "4         Dealer       Manual      0  \n",
       "..           ...          ...    ...  \n",
       "296       Dealer       Manual      0  \n",
       "297       Dealer       Manual      0  \n",
       "298       Dealer       Manual      0  \n",
       "299       Dealer       Manual      0  \n",
       "300       Dealer       Manual      0  \n",
       "\n",
       "[301 rows x 9 columns]"
      ]
     },
     "execution_count": 5,
     "metadata": {},
     "output_type": "execute_result"
    }
   ],
   "source": [
    "df=pd.read_csv(\"car data.csv\")\n",
    "df"
   ]
  },
  {
   "cell_type": "code",
   "execution_count": 6,
   "metadata": {
    "colab": {
     "base_uri": "https://localhost:8080/"
    },
    "id": "X4lgK-hKcUdM",
    "outputId": "ec80d547-fce4-4e1a-fb56-dd3584d7fac4"
   },
   "outputs": [
    {
     "data": {
      "text/plain": [
       "Index(['Car_Name', 'Year', 'Selling_Price', 'Present_Price', 'Driven_kms',\n",
       "       'Fuel_Type', 'Selling_type', 'Transmission', 'Owner'],\n",
       "      dtype='object')"
      ]
     },
     "execution_count": 6,
     "metadata": {},
     "output_type": "execute_result"
    }
   ],
   "source": [
    "df.columns"
   ]
  },
  {
   "cell_type": "code",
   "execution_count": 7,
   "metadata": {
    "colab": {
     "base_uri": "https://localhost:8080/"
    },
    "id": "QJaqHUAbcUhR",
    "outputId": "07a545ef-c5a0-411e-ced5-56cef8af7da1"
   },
   "outputs": [
    {
     "name": "stdout",
     "output_type": "stream",
     "text": [
      "<class 'pandas.core.frame.DataFrame'>\n",
      "RangeIndex: 301 entries, 0 to 300\n",
      "Data columns (total 9 columns):\n",
      " #   Column         Non-Null Count  Dtype  \n",
      "---  ------         --------------  -----  \n",
      " 0   Car_Name       301 non-null    object \n",
      " 1   Year           301 non-null    int64  \n",
      " 2   Selling_Price  301 non-null    float64\n",
      " 3   Present_Price  301 non-null    float64\n",
      " 4   Driven_kms     301 non-null    int64  \n",
      " 5   Fuel_Type      301 non-null    object \n",
      " 6   Selling_type   301 non-null    object \n",
      " 7   Transmission   301 non-null    object \n",
      " 8   Owner          301 non-null    int64  \n",
      "dtypes: float64(2), int64(3), object(4)\n",
      "memory usage: 21.3+ KB\n"
     ]
    }
   ],
   "source": [
    "df.info()"
   ]
  },
  {
   "cell_type": "code",
   "execution_count": 8,
   "metadata": {
    "colab": {
     "base_uri": "https://localhost:8080/"
    },
    "id": "XrDnWnBwchEs",
    "outputId": "88d45f6c-d3a5-471a-c139-276906242d4f"
   },
   "outputs": [
    {
     "data": {
      "text/plain": [
       "Car_Name         0\n",
       "Year             0\n",
       "Selling_Price    0\n",
       "Present_Price    0\n",
       "Driven_kms       0\n",
       "Fuel_Type        0\n",
       "Selling_type     0\n",
       "Transmission     0\n",
       "Owner            0\n",
       "dtype: int64"
      ]
     },
     "execution_count": 8,
     "metadata": {},
     "output_type": "execute_result"
    }
   ],
   "source": [
    "df.isnull().sum()"
   ]
  },
  {
   "cell_type": "code",
   "execution_count": 9,
   "metadata": {
    "colab": {
     "base_uri": "https://localhost:8080/"
    },
    "id": "tbRLk_vSchIi",
    "outputId": "ae376a05-43af-4c72-ea60-7f4f35d9beb6"
   },
   "outputs": [
    {
     "data": {
      "text/plain": [
       "{False, True}"
      ]
     },
     "execution_count": 9,
     "metadata": {},
     "output_type": "execute_result"
    }
   ],
   "source": [
    "set(df.duplicated())"
   ]
  },
  {
   "cell_type": "code",
   "execution_count": 10,
   "metadata": {
    "colab": {
     "base_uri": "https://localhost:8080/"
    },
    "id": "V-CVyUCIchbl",
    "outputId": "796c0488-ef94-42ac-ba63-a3074813f687"
   },
   "outputs": [
    {
     "data": {
      "text/plain": [
       "2"
      ]
     },
     "execution_count": 10,
     "metadata": {},
     "output_type": "execute_result"
    }
   ],
   "source": [
    "df.duplicated().sum()"
   ]
  },
  {
   "cell_type": "code",
   "execution_count": 11,
   "metadata": {
    "colab": {
     "base_uri": "https://localhost:8080/",
     "height": 564
    },
    "id": "xtqcWB5Echep",
    "outputId": "bb8b700e-fd7a-4e73-a5f1-96110b374b6a"
   },
   "outputs": [
    {
     "data": {
      "image/png": "[encoded data removed]",
      "text/plain": [
       "<Figure size 800x600 with 1 Axes>"
      ]
     },
     "metadata": {},
     "output_type": "display_data"
    }
   ],
   "source": [
    "df['Is_Duplicate'] = df.duplicated()\n",
    "\n",
    "# Create a count plot to visualize duplicates\n",
    "plt.figure(figsize=(8, 6))\n",
    "sns.countplot(x='Is_Duplicate', data=df)\n",
    "plt.xlabel('Is Duplicate')\n",
    "plt.ylabel('Count')\n",
    "plt.title('Duplicate Rows Visualization')\n",
    "plt.xticks([0, 1], ['Not Duplicate', 'Duplicate'])  # Customize x-axis labels\n",
    "plt.show()\n",
    "\n",
    "# Drop the \"Is_Duplicate\" column if not needed\n",
    "df.drop(columns=['Is_Duplicate'], inplace=True)"
   ]
  },
  {
   "cell_type": "code",
   "execution_count": 12,
   "metadata": {
    "colab": {
     "base_uri": "https://localhost:8080/",
     "height": 424
    },
    "id": "dl-vN_Fpc7v2",
    "outputId": "ce8f9627-114a-4994-9639-5fb23f1a0047"
   },
   "outputs": [
    {
     "data": {
      "text/html": [
       "<div>\n",
       "<style scoped>\n",
       "    .dataframe tbody tr th:only-of-type {\n",
       "        vertical-align: middle;\n",
       "    }\n",
       "\n",
       "    .dataframe tbody tr th {\n",
       "        vertical-align: top;\n",
       "    }\n",
       "\n",
       "    .dataframe thead th {\n",
       "        text-align: right;\n",
       "    }\n",
       "</style>\n",
       "<table border=\"1\" class=\"dataframe\">\n",
       "  <thead>\n",
       "    <tr style=\"text-align: right;\">\n",
       "      <th></th>\n",
       "      <th>Car_Name</th>\n",
       "      <th>Year</th>\n",
       "      <th>Selling_Price</th>\n",
       "      <th>Present_Price</th>\n",
       "      <th>Driven_kms</th>\n",
       "      <th>Fuel_Type</th>\n",
       "      <th>Selling_type</th>\n",
       "      <th>Transmission</th>\n",
       "      <th>Owner</th>\n",
       "    </tr>\n",
       "  </thead>\n",
       "  <tbody>\n",
       "    <tr>\n",
       "      <th>0</th>\n",
       "      <td>ritz</td>\n",
       "      <td>2014</td>\n",
       "      <td>3.35</td>\n",
       "      <td>5.59</td>\n",
       "      <td>27000</td>\n",
       "      <td>Petrol</td>\n",
       "      <td>Dealer</td>\n",
       "      <td>Manual</td>\n",
       "      <td>0</td>\n",
       "    </tr>\n",
       "    <tr>\n",
       "      <th>1</th>\n",
       "      <td>sx4</td>\n",
       "      <td>2013</td>\n",
       "      <td>4.75</td>\n",
       "      <td>9.54</td>\n",
       "      <td>43000</td>\n",
       "      <td>Diesel</td>\n",
       "      <td>Dealer</td>\n",
       "      <td>Manual</td>\n",
       "      <td>0</td>\n",
       "    </tr>\n",
       "    <tr>\n",
       "      <th>2</th>\n",
       "      <td>ciaz</td>\n",
       "      <td>2017</td>\n",
       "      <td>7.25</td>\n",
       "      <td>9.85</td>\n",
       "      <td>6900</td>\n",
       "      <td>Petrol</td>\n",
       "      <td>Dealer</td>\n",
       "      <td>Manual</td>\n",
       "      <td>0</td>\n",
       "    </tr>\n",
       "    <tr>\n",
       "      <th>3</th>\n",
       "      <td>wagon r</td>\n",
       "      <td>2011</td>\n",
       "      <td>2.85</td>\n",
       "      <td>4.15</td>\n",
       "      <td>5200</td>\n",
       "      <td>Petrol</td>\n",
       "      <td>Dealer</td>\n",
       "      <td>Manual</td>\n",
       "      <td>0</td>\n",
       "    </tr>\n",
       "    <tr>\n",
       "      <th>4</th>\n",
       "      <td>swift</td>\n",
       "      <td>2014</td>\n",
       "      <td>4.60</td>\n",
       "      <td>6.87</td>\n",
       "      <td>42450</td>\n",
       "      <td>Diesel</td>\n",
       "      <td>Dealer</td>\n",
       "      <td>Manual</td>\n",
       "      <td>0</td>\n",
       "    </tr>\n",
       "    <tr>\n",
       "      <th>...</th>\n",
       "      <td>...</td>\n",
       "      <td>...</td>\n",
       "      <td>...</td>\n",
       "      <td>...</td>\n",
       "      <td>...</td>\n",
       "      <td>...</td>\n",
       "      <td>...</td>\n",
       "      <td>...</td>\n",
       "      <td>...</td>\n",
       "    </tr>\n",
       "    <tr>\n",
       "      <th>296</th>\n",
       "      <td>city</td>\n",
       "      <td>2016</td>\n",
       "      <td>9.50</td>\n",
       "      <td>11.60</td>\n",
       "      <td>33988</td>\n",
       "      <td>Diesel</td>\n",
       "      <td>Dealer</td>\n",
       "      <td>Manual</td>\n",
       "      <td>0</td>\n",
       "    </tr>\n",
       "    <tr>\n",
       "      <th>297</th>\n",
       "      <td>brio</td>\n",
       "      <td>2015</td>\n",
       "      <td>4.00</td>\n",
       "      <td>5.90</td>\n",
       "      <td>60000</td>\n",
       "      <td>Petrol</td>\n",
       "      <td>Dealer</td>\n",
       "      <td>Manual</td>\n",
       "      <td>0</td>\n",
       "    </tr>\n",
       "    <tr>\n",
       "      <th>298</th>\n",
       "      <td>city</td>\n",
       "      <td>2009</td>\n",
       "      <td>3.35</td>\n",
       "      <td>11.00</td>\n",
       "      <td>87934</td>\n",
       "      <td>Petrol</td>\n",
       "      <td>Dealer</td>\n",
       "      <td>Manual</td>\n",
       "      <td>0</td>\n",
       "    </tr>\n",
       "    <tr>\n",
       "      <th>299</th>\n",
       "      <td>city</td>\n",
       "      <td>2017</td>\n",
       "      <td>11.50</td>\n",
       "      <td>12.50</td>\n",
       "      <td>9000</td>\n",
       "      <td>Diesel</td>\n",
       "      <td>Dealer</td>\n",
       "      <td>Manual</td>\n",
       "      <td>0</td>\n",
       "    </tr>\n",
       "    <tr>\n",
       "      <th>300</th>\n",
       "      <td>brio</td>\n",
       "      <td>2016</td>\n",
       "      <td>5.30</td>\n",
       "      <td>5.90</td>\n",
       "      <td>5464</td>\n",
       "      <td>Petrol</td>\n",
       "      <td>Dealer</td>\n",
       "      <td>Manual</td>\n",
       "      <td>0</td>\n",
       "    </tr>\n",
       "  </tbody>\n",
       "</table>\n",
       "<p>299 rows × 9 columns</p>\n",
       "</div>"
      ],
      "text/plain": [
       "    Car_Name  Year  Selling_Price  Present_Price  Driven_kms Fuel_Type  \\\n",
       "0       ritz  2014           3.35           5.59       27000    Petrol   \n",
       "1        sx4  2013           4.75           9.54       43000    Diesel   \n",
       "2       ciaz  2017           7.25           9.85        6900    Petrol   \n",
       "3    wagon r  2011           2.85           4.15        5200    Petrol   \n",
       "4      swift  2014           4.60           6.87       42450    Diesel   \n",
       "..       ...   ...            ...            ...         ...       ...   \n",
       "296     city  2016           9.50          11.60       33988    Diesel   \n",
       "297     brio  2015           4.00           5.90       60000    Petrol   \n",
       "298     city  2009           3.35          11.00       87934    Petrol   \n",
       "299     city  2017          11.50          12.50        9000    Diesel   \n",
       "300     brio  2016           5.30           5.90        5464    Petrol   \n",
       "\n",
       "    Selling_type Transmission  Owner  \n",
       "0         Dealer       Manual      0  \n",
       "1         Dealer       Manual      0  \n",
       "2         Dealer       Manual      0  \n",
       "3         Dealer       Manual      0  \n",
       "4         Dealer       Manual      0  \n",
       "..           ...          ...    ...  \n",
       "296       Dealer       Manual      0  \n",
       "297       Dealer       Manual      0  \n",
       "298       Dealer       Manual      0  \n",
       "299       Dealer       Manual      0  \n",
       "300       Dealer       Manual      0  \n",
       "\n",
       "[299 rows x 9 columns]"
      ]
     },
     "execution_count": 12,
     "metadata": {},
     "output_type": "execute_result"
    }
   ],
   "source": [
    "df = df.drop_duplicates(subset=['Car_Name', 'Year', 'Selling_Price', 'Present_Price', 'Driven_kms',\n",
    "       'Fuel_Type', 'Selling_type', 'Transmission', 'Owner'])\n",
    "df"
   ]
  },
  {
   "cell_type": "code",
   "execution_count": 13,
   "metadata": {
    "colab": {
     "base_uri": "https://localhost:8080/"
    },
    "id": "-rkDPf6Fc7y-",
    "outputId": "646826e1-6027-45e5-ce62-4005dfaf296d"
   },
   "outputs": [
    {
     "data": {
      "text/plain": [
       "0"
      ]
     },
     "execution_count": 13,
     "metadata": {},
     "output_type": "execute_result"
    }
   ],
   "source": [
    "df.duplicated().sum()"
   ]
  },
  {
   "cell_type": "code",
   "execution_count": 14,
   "metadata": {
    "colab": {
     "base_uri": "https://localhost:8080/",
     "height": 699
    },
    "id": "dfWLc5S7dEj-",
    "outputId": "002d7af4-ec5d-449a-da05-8a3c04b2232a"
   },
   "outputs": [
    {
     "data": {
      "image/png": "[encoded data removed]",
      "text/plain": [
       "<Figure size 1000x800 with 2 Axes>"
      ]
     },
     "metadata": {},
     "output_type": "display_data"
    }
   ],
   "source": [
    "# Select numerical columns\n",
    "numerical_columns = ['Year', 'Selling_Price', 'Present_Price', 'Driven_kms', 'Owner']\n",
    "\n",
    "# Create a DataFrame containing only the numerical columns\n",
    "numerical_df = df[numerical_columns]\n",
    "\n",
    "# Calculate the correlation matrix for numerical columns\n",
    "correlation_matrix = numerical_df.corr()\n",
    "\n",
    "# Create a heatmap\n",
    "plt.figure(figsize=(10, 8))\n",
    "sns.heatmap(correlation_matrix, annot=True, cmap='coolwarm', fmt=\".2f\")\n",
    "plt.title('Correlation Heatmap (Numerical Columns)')\n",
    "plt.show()"
   ]
  },
  {
   "cell_type": "code",
   "execution_count": 15,
   "metadata": {
    "colab": {
     "base_uri": "https://localhost:8080/",
     "height": 564
    },
    "id": "Dya9IVhHdSGX",
    "outputId": "8ba59844-2943-4be3-9adb-5dc52ed8b7b9"
   },
   "outputs": [
    {
     "data": {
      "image/png": "[encoded data removed]",
      "text/plain": [
       "<Figure size 1000x600 with 1 Axes>"
      ]
     },
     "metadata": {},
     "output_type": "display_data"
    }
   ],
   "source": [
    "plt.figure(figsize=(10, 6))\n",
    "sns.histplot(df['Selling_Price'], bins=20, kde=True)\n",
    "plt.xlabel('Selling Price')\n",
    "plt.ylabel('Frequency')\n",
    "plt.title('Distribution of Selling Prices')\n",
    "plt.show()"
   ]
  },
  {
   "cell_type": "markdown",
   "metadata": {
    "id": "Vzx7mOpPdcl_"
   },
   "source": [
    "Data Encoding"
   ]
  },
  {
   "cell_type": "code",
   "execution_count": 16,
   "metadata": {
    "colab": {
     "base_uri": "https://localhost:8080/"
    },
    "id": "V7-0QLcLdSKw",
    "outputId": "096dedb2-542a-440b-aa1f-636d719c8952"
   },
   "outputs": [
    {
     "name": "stdout",
     "output_type": "stream",
     "text": [
      "Fuel_Type\n",
      "Petrol    239\n",
      "Diesel     58\n",
      "CNG         2\n",
      "Name: count, dtype: int64\n",
      "Selling_type\n",
      "Dealer        193\n",
      "Individual    106\n",
      "Name: count, dtype: int64\n",
      "Transmission\n",
      "Manual       260\n",
      "Automatic     39\n",
      "Name: count, dtype: int64\n"
     ]
    }
   ],
   "source": [
    "print(df['Fuel_Type'].value_counts())\n",
    "print(df['Selling_type'].value_counts())\n",
    "print(df['Transmission'].value_counts())"
   ]
  },
  {
   "cell_type": "code",
   "execution_count": 17,
   "metadata": {
    "colab": {
     "base_uri": "https://localhost:8080/",
     "height": 745
    },
    "id": "GHJxHEb0dSOB",
    "outputId": "9b073106-55b7-4b0f-835f-767a9ec36187"
   },
   "outputs": [
    {
     "name": "stderr",
     "output_type": "stream",
     "text": [
      "C:\\Users\\ASUS\\AppData\\Local\\Temp\\ipykernel_22156\\851376864.py:1: SettingWithCopyWarning: \n",
      "A value is trying to be set on a copy of a slice from a DataFrame.\n",
      "Try using .loc[row_indexer,col_indexer] = value instead\n",
      "\n",
      "See the caveats in the documentation: https://pandas.pydata.org/pandas-docs/stable/user_guide/indexing.html#returning-a-view-versus-a-copy\n",
      "  df.replace({'Fuel_Type':{'Petrol':0,'Diesel':1,'CNG':2}},inplace=True)\n",
      "C:\\Users\\ASUS\\AppData\\Local\\Temp\\ipykernel_22156\\851376864.py:4: SettingWithCopyWarning: \n",
      "A value is trying to be set on a copy of a slice from a DataFrame.\n",
      "Try using .loc[row_indexer,col_indexer] = value instead\n",
      "\n",
      "See the caveats in the documentation: https://pandas.pydata.org/pandas-docs/stable/user_guide/indexing.html#returning-a-view-versus-a-copy\n",
      "  df.replace({'Selling_type':{'Dealer':0,'Individual':1}},inplace=True)\n",
      "C:\\Users\\ASUS\\AppData\\Local\\Temp\\ipykernel_22156\\851376864.py:7: SettingWithCopyWarning: \n",
      "A value is trying to be set on a copy of a slice from a DataFrame.\n",
      "Try using .loc[row_indexer,col_indexer] = value instead\n",
      "\n",
      "See the caveats in the documentation: https://pandas.pydata.org/pandas-docs/stable/user_guide/indexing.html#returning-a-view-versus-a-copy\n",
      "  df.replace({'Transmission':{'Manual':0,'Automatic':1}},inplace=True)\n"
     ]
    },
    {
     "data": {
      "text/html": [
       "<div>\n",
       "<style scoped>\n",
       "    .dataframe tbody tr th:only-of-type {\n",
       "        vertical-align: middle;\n",
       "    }\n",
       "\n",
       "    .dataframe tbody tr th {\n",
       "        vertical-align: top;\n",
       "    }\n",
       "\n",
       "    .dataframe thead th {\n",
       "        text-align: right;\n",
       "    }\n",
       "</style>\n",
       "<table border=\"1\" class=\"dataframe\">\n",
       "  <thead>\n",
       "    <tr style=\"text-align: right;\">\n",
       "      <th></th>\n",
       "      <th>Car_Name</th>\n",
       "      <th>Year</th>\n",
       "      <th>Selling_Price</th>\n",
       "      <th>Present_Price</th>\n",
       "      <th>Driven_kms</th>\n",
       "      <th>Fuel_Type</th>\n",
       "      <th>Selling_type</th>\n",
       "      <th>Transmission</th>\n",
       "      <th>Owner</th>\n",
       "    </tr>\n",
       "  </thead>\n",
       "  <tbody>\n",
       "    <tr>\n",
       "      <th>0</th>\n",
       "      <td>ritz</td>\n",
       "      <td>2014</td>\n",
       "      <td>3.35</td>\n",
       "      <td>5.59</td>\n",
       "      <td>27000</td>\n",
       "      <td>0</td>\n",
       "      <td>0</td>\n",
       "      <td>0</td>\n",
       "      <td>0</td>\n",
       "    </tr>\n",
       "    <tr>\n",
       "      <th>1</th>\n",
       "      <td>sx4</td>\n",
       "      <td>2013</td>\n",
       "      <td>4.75</td>\n",
       "      <td>9.54</td>\n",
       "      <td>43000</td>\n",
       "      <td>1</td>\n",
       "      <td>0</td>\n",
       "      <td>0</td>\n",
       "      <td>0</td>\n",
       "    </tr>\n",
       "    <tr>\n",
       "      <th>2</th>\n",
       "      <td>ciaz</td>\n",
       "      <td>2017</td>\n",
       "      <td>7.25</td>\n",
       "      <td>9.85</td>\n",
       "      <td>6900</td>\n",
       "      <td>0</td>\n",
       "      <td>0</td>\n",
       "      <td>0</td>\n",
       "      <td>0</td>\n",
       "    </tr>\n",
       "    <tr>\n",
       "      <th>3</th>\n",
       "      <td>wagon r</td>\n",
       "      <td>2011</td>\n",
       "      <td>2.85</td>\n",
       "      <td>4.15</td>\n",
       "      <td>5200</td>\n",
       "      <td>0</td>\n",
       "      <td>0</td>\n",
       "      <td>0</td>\n",
       "      <td>0</td>\n",
       "    </tr>\n",
       "    <tr>\n",
       "      <th>4</th>\n",
       "      <td>swift</td>\n",
       "      <td>2014</td>\n",
       "      <td>4.60</td>\n",
       "      <td>6.87</td>\n",
       "      <td>42450</td>\n",
       "      <td>1</td>\n",
       "      <td>0</td>\n",
       "      <td>0</td>\n",
       "      <td>0</td>\n",
       "    </tr>\n",
       "    <tr>\n",
       "      <th>...</th>\n",
       "      <td>...</td>\n",
       "      <td>...</td>\n",
       "      <td>...</td>\n",
       "      <td>...</td>\n",
       "      <td>...</td>\n",
       "      <td>...</td>\n",
       "      <td>...</td>\n",
       "      <td>...</td>\n",
       "      <td>...</td>\n",
       "    </tr>\n",
       "    <tr>\n",
       "      <th>296</th>\n",
       "      <td>city</td>\n",
       "      <td>2016</td>\n",
       "      <td>9.50</td>\n",
       "      <td>11.60</td>\n",
       "      <td>33988</td>\n",
       "      <td>1</td>\n",
       "      <td>0</td>\n",
       "      <td>0</td>\n",
       "      <td>0</td>\n",
       "    </tr>\n",
       "    <tr>\n",
       "      <th>297</th>\n",
       "      <td>brio</td>\n",
       "      <td>2015</td>\n",
       "      <td>4.00</td>\n",
       "      <td>5.90</td>\n",
       "      <td>60000</td>\n",
       "      <td>0</td>\n",
       "      <td>0</td>\n",
       "      <td>0</td>\n",
       "      <td>0</td>\n",
       "    </tr>\n",
       "    <tr>\n",
       "      <th>298</th>\n",
       "      <td>city</td>\n",
       "      <td>2009</td>\n",
       "      <td>3.35</td>\n",
       "      <td>11.00</td>\n",
       "      <td>87934</td>\n",
       "      <td>0</td>\n",
       "      <td>0</td>\n",
       "      <td>0</td>\n",
       "      <td>0</td>\n",
       "    </tr>\n",
       "    <tr>\n",
       "      <th>299</th>\n",
       "      <td>city</td>\n",
       "      <td>2017</td>\n",
       "      <td>11.50</td>\n",
       "      <td>12.50</td>\n",
       "      <td>9000</td>\n",
       "      <td>1</td>\n",
       "      <td>0</td>\n",
       "      <td>0</td>\n",
       "      <td>0</td>\n",
       "    </tr>\n",
       "    <tr>\n",
       "      <th>300</th>\n",
       "      <td>brio</td>\n",
       "      <td>2016</td>\n",
       "      <td>5.30</td>\n",
       "      <td>5.90</td>\n",
       "      <td>5464</td>\n",
       "      <td>0</td>\n",
       "      <td>0</td>\n",
       "      <td>0</td>\n",
       "      <td>0</td>\n",
       "    </tr>\n",
       "  </tbody>\n",
       "</table>\n",
       "<p>299 rows × 9 columns</p>\n",
       "</div>"
      ],
      "text/plain": [
       "    Car_Name  Year  Selling_Price  Present_Price  Driven_kms  Fuel_Type  \\\n",
       "0       ritz  2014           3.35           5.59       27000          0   \n",
       "1        sx4  2013           4.75           9.54       43000          1   \n",
       "2       ciaz  2017           7.25           9.85        6900          0   \n",
       "3    wagon r  2011           2.85           4.15        5200          0   \n",
       "4      swift  2014           4.60           6.87       42450          1   \n",
       "..       ...   ...            ...            ...         ...        ...   \n",
       "296     city  2016           9.50          11.60       33988          1   \n",
       "297     brio  2015           4.00           5.90       60000          0   \n",
       "298     city  2009           3.35          11.00       87934          0   \n",
       "299     city  2017          11.50          12.50        9000          1   \n",
       "300     brio  2016           5.30           5.90        5464          0   \n",
       "\n",
       "     Selling_type  Transmission  Owner  \n",
       "0               0             0      0  \n",
       "1               0             0      0  \n",
       "2               0             0      0  \n",
       "3               0             0      0  \n",
       "4               0             0      0  \n",
       "..            ...           ...    ...  \n",
       "296             0             0      0  \n",
       "297             0             0      0  \n",
       "298             0             0      0  \n",
       "299             0             0      0  \n",
       "300             0             0      0  \n",
       "\n",
       "[299 rows x 9 columns]"
      ]
     },
     "execution_count": 17,
     "metadata": {},
     "output_type": "execute_result"
    }
   ],
   "source": [
    "df.replace({'Fuel_Type':{'Petrol':0,'Diesel':1,'CNG':2}},inplace=True)\n",
    "\n",
    "# encoding \"Seller_Type\" Column\n",
    "df.replace({'Selling_type':{'Dealer':0,'Individual':1}},inplace=True)\n",
    "\n",
    "# encoding \"Transmission\" Column\n",
    "df.replace({'Transmission':{'Manual':0,'Automatic':1}},inplace=True)\n",
    "df"
   ]
  },
  {
   "cell_type": "markdown",
   "metadata": {
    "id": "SprCS-0Id9GF"
   },
   "source": [
    "Modeling"
   ]
  },
  {
   "cell_type": "code",
   "execution_count": 18,
   "metadata": {
    "colab": {
     "base_uri": "https://localhost:8080/",
     "height": 424
    },
    "id": "4KhsV2eIdEnY",
    "outputId": "adbbbf0c-b8ab-4892-f14a-0cdad63483cb"
   },
   "outputs": [
    {
     "data": {
      "text/html": [
       "<div>\n",
       "<style scoped>\n",
       "    .dataframe tbody tr th:only-of-type {\n",
       "        vertical-align: middle;\n",
       "    }\n",
       "\n",
       "    .dataframe tbody tr th {\n",
       "        vertical-align: top;\n",
       "    }\n",
       "\n",
       "    .dataframe thead th {\n",
       "        text-align: right;\n",
       "    }\n",
       "</style>\n",
       "<table border=\"1\" class=\"dataframe\">\n",
       "  <thead>\n",
       "    <tr style=\"text-align: right;\">\n",
       "      <th></th>\n",
       "      <th>Year</th>\n",
       "      <th>Present_Price</th>\n",
       "      <th>Driven_kms</th>\n",
       "      <th>Fuel_Type</th>\n",
       "      <th>Selling_type</th>\n",
       "      <th>Transmission</th>\n",
       "      <th>Owner</th>\n",
       "    </tr>\n",
       "  </thead>\n",
       "  <tbody>\n",
       "    <tr>\n",
       "      <th>0</th>\n",
       "      <td>2014</td>\n",
       "      <td>5.59</td>\n",
       "      <td>27000</td>\n",
       "      <td>0</td>\n",
       "      <td>0</td>\n",
       "      <td>0</td>\n",
       "      <td>0</td>\n",
       "    </tr>\n",
       "    <tr>\n",
       "      <th>1</th>\n",
       "      <td>2013</td>\n",
       "      <td>9.54</td>\n",
       "      <td>43000</td>\n",
       "      <td>1</td>\n",
       "      <td>0</td>\n",
       "      <td>0</td>\n",
       "      <td>0</td>\n",
       "    </tr>\n",
       "    <tr>\n",
       "      <th>2</th>\n",
       "      <td>2017</td>\n",
       "      <td>9.85</td>\n",
       "      <td>6900</td>\n",
       "      <td>0</td>\n",
       "      <td>0</td>\n",
       "      <td>0</td>\n",
       "      <td>0</td>\n",
       "    </tr>\n",
       "    <tr>\n",
       "      <th>3</th>\n",
       "      <td>2011</td>\n",
       "      <td>4.15</td>\n",
       "      <td>5200</td>\n",
       "      <td>0</td>\n",
       "      <td>0</td>\n",
       "      <td>0</td>\n",
       "      <td>0</td>\n",
       "    </tr>\n",
       "    <tr>\n",
       "      <th>4</th>\n",
       "      <td>2014</td>\n",
       "      <td>6.87</td>\n",
       "      <td>42450</td>\n",
       "      <td>1</td>\n",
       "      <td>0</td>\n",
       "      <td>0</td>\n",
       "      <td>0</td>\n",
       "    </tr>\n",
       "    <tr>\n",
       "      <th>...</th>\n",
       "      <td>...</td>\n",
       "      <td>...</td>\n",
       "      <td>...</td>\n",
       "      <td>...</td>\n",
       "      <td>...</td>\n",
       "      <td>...</td>\n",
       "      <td>...</td>\n",
       "    </tr>\n",
       "    <tr>\n",
       "      <th>296</th>\n",
       "      <td>2016</td>\n",
       "      <td>11.60</td>\n",
       "      <td>33988</td>\n",
       "      <td>1</td>\n",
       "      <td>0</td>\n",
       "      <td>0</td>\n",
       "      <td>0</td>\n",
       "    </tr>\n",
       "    <tr>\n",
       "      <th>297</th>\n",
       "      <td>2015</td>\n",
       "      <td>5.90</td>\n",
       "      <td>60000</td>\n",
       "      <td>0</td>\n",
       "      <td>0</td>\n",
       "      <td>0</td>\n",
       "      <td>0</td>\n",
       "    </tr>\n",
       "    <tr>\n",
       "      <th>298</th>\n",
       "      <td>2009</td>\n",
       "      <td>11.00</td>\n",
       "      <td>87934</td>\n",
       "      <td>0</td>\n",
       "      <td>0</td>\n",
       "      <td>0</td>\n",
       "      <td>0</td>\n",
       "    </tr>\n",
       "    <tr>\n",
       "      <th>299</th>\n",
       "      <td>2017</td>\n",
       "      <td>12.50</td>\n",
       "      <td>9000</td>\n",
       "      <td>1</td>\n",
       "      <td>0</td>\n",
       "      <td>0</td>\n",
       "      <td>0</td>\n",
       "    </tr>\n",
       "    <tr>\n",
       "      <th>300</th>\n",
       "      <td>2016</td>\n",
       "      <td>5.90</td>\n",
       "      <td>5464</td>\n",
       "      <td>0</td>\n",
       "      <td>0</td>\n",
       "      <td>0</td>\n",
       "      <td>0</td>\n",
       "    </tr>\n",
       "  </tbody>\n",
       "</table>\n",
       "<p>299 rows × 7 columns</p>\n",
       "</div>"
      ],
      "text/plain": [
       "     Year  Present_Price  Driven_kms  Fuel_Type  Selling_type  Transmission  \\\n",
       "0    2014           5.59       27000          0             0             0   \n",
       "1    2013           9.54       43000          1             0             0   \n",
       "2    2017           9.85        6900          0             0             0   \n",
       "3    2011           4.15        5200          0             0             0   \n",
       "4    2014           6.87       42450          1             0             0   \n",
       "..    ...            ...         ...        ...           ...           ...   \n",
       "296  2016          11.60       33988          1             0             0   \n",
       "297  2015           5.90       60000          0             0             0   \n",
       "298  2009          11.00       87934          0             0             0   \n",
       "299  2017          12.50        9000          1             0             0   \n",
       "300  2016           5.90        5464          0             0             0   \n",
       "\n",
       "     Owner  \n",
       "0        0  \n",
       "1        0  \n",
       "2        0  \n",
       "3        0  \n",
       "4        0  \n",
       "..     ...  \n",
       "296      0  \n",
       "297      0  \n",
       "298      0  \n",
       "299      0  \n",
       "300      0  \n",
       "\n",
       "[299 rows x 7 columns]"
      ]
     },
     "execution_count": 18,
     "metadata": {},
     "output_type": "execute_result"
    }
   ],
   "source": [
    "X = df.drop(['Car_Name','Selling_Price'],axis=1)\n",
    "Y = df['Selling_Price']\n",
    "X"
   ]
  },
  {
   "cell_type": "code",
   "execution_count": 21,
   "metadata": {
    "colab": {
     "base_uri": "https://localhost:8080/"
    },
    "id": "5M3SMNmoewxN",
    "outputId": "239699c7-ea55-44a0-9eb2-8ea19c185fdb"
   },
   "outputs": [
    {
     "data": {
      "text/plain": [
       "0       3.35\n",
       "1       4.75\n",
       "2       7.25\n",
       "3       2.85\n",
       "4       4.60\n",
       "       ...  \n",
       "296     9.50\n",
       "297     4.00\n",
       "298     3.35\n",
       "299    11.50\n",
       "300     5.30\n",
       "Name: Selling_Price, Length: 299, dtype: float64"
      ]
     },
     "execution_count": 21,
     "metadata": {},
     "output_type": "execute_result"
    }
   ],
   "source": [
    "Y"
   ]
  },
  {
   "cell_type": "markdown",
   "metadata": {
    "id": "cKhAzx-be6hP"
   },
   "source": [
    "Evaluation and Visualisation"
   ]
  },
  {
   "cell_type": "code",
   "execution_count": 19,
   "metadata": {
    "colab": {
     "base_uri": "https://localhost:8080/"
    },
    "id": "A11dubgCepCB",
    "outputId": "d81a4953-d108-4cf7-8487-c27a689b08a9"
   },
   "outputs": [
    {
     "name": "stdout",
     "output_type": "stream",
     "text": [
      "Mean Squared Error (MSE): 2.41\n",
      "R-squared (R2): 0.89\n"
     ]
    }
   ],
   "source": [
    "from sklearn.model_selection import train_test_split\n",
    "from sklearn.linear_model import LinearRegression\n",
    "from sklearn.metrics import mean_squared_error, r2_score\n",
    "\n",
    "# Step 1: Split the dataset into training and testing sets\n",
    "X_train, X_test, Y_train, Y_test = train_test_split(X, Y, test_size=0.2, random_state=13)\n",
    "\n",
    "\n",
    "model = LinearRegression()\n",
    "model.fit(X_train, Y_train)\n",
    "\n",
    "# Step 4: Evaluate the model\n",
    "Y_pred = model.predict(X_test)\n",
    "\n",
    "# Calculate performance metrics\n",
    "mse = mean_squared_error(Y_test, Y_pred)\n",
    "r2 = r2_score(Y_test, Y_pred)\n",
    "\n",
    "print(f\"Mean Squared Error (MSE): {mse:.2f}\")\n",
    "print(f\"R-squared (R2): {r2:.2f}\")"
   ]
  },
  {
   "cell_type": "code",
   "execution_count": 20,
   "metadata": {
    "colab": {
     "base_uri": "https://localhost:8080/",
     "height": 564
    },
    "id": "3Wa0heWhepFN",
    "outputId": "ad65a68e-0bd6-46ea-d0c1-25ed7fca532b"
   },
   "outputs": [
    {
     "data": {
      "image/png": "[encoded data removed]",
      "text/plain": [
       "<Figure size 1000x600 with 1 Axes>"
      ]
     },
     "metadata": {},
     "output_type": "display_data"
    }
   ],
   "source": [
    "plt.figure(figsize=(10, 6))\n",
    "plt.scatter(Y_test, Y_pred, alpha=0.5)\n",
    "plt.xlabel('Actual Selling Price')\n",
    "plt.ylabel('Predicted Selling Price')\n",
    "plt.title('Actual vs. Predicted Selling Prices (Linear Regression)')\n",
    "plt.show()"
   ]
  },
  {
   "cell_type": "code",
   "execution_count": 21,
   "metadata": {
    "colab": {
     "base_uri": "https://localhost:8080/"
    },
    "id": "yhUCQdXwepI7",
    "outputId": "6ac1b9d6-dcb8-4302-fc91-52c4b02e013b"
   },
   "outputs": [
    {
     "name": "stdout",
     "output_type": "stream",
     "text": [
      "Random Forest Mean Squared Error (MSE): 1.42\n",
      "Random Forest R-squared (R2): 0.94\n"
     ]
    }
   ],
   "source": [
    "from sklearn.ensemble import RandomForestRegressor\n",
    "\n",
    "# Create a Random Forest Regressor model\n",
    "rf_model = RandomForestRegressor(random_state=17)\n",
    "\n",
    "# Fit the model to the training data\n",
    "rf_model.fit(X_train, Y_train)\n",
    "\n",
    "# Make predictions on the test data\n",
    "rf_Y_pred = rf_model.predict(X_test)\n",
    "\n",
    "# Calculate performance metrics for the Random Forest model\n",
    "rf_mse = mean_squared_error(Y_test, rf_Y_pred)\n",
    "rf_r2 = r2_score(Y_test, rf_Y_pred)\n",
    "\n",
    "print(f\"Random Forest Mean Squared Error (MSE): {rf_mse:.2f}\")\n",
    "print(f\"Random Forest R-squared (R2): {rf_r2:.2f}\")"
   ]
  },
  {
   "cell_type": "code",
   "execution_count": 22,
   "metadata": {
    "colab": {
     "base_uri": "https://localhost:8080/",
     "height": 564
    },
    "id": "hPvCHqRefWU4",
    "outputId": "95605944-377b-4b02-f579-d422c24dcb7d"
   },
   "outputs": [
    {
     "data": {
      "image/png": "[encoded data removed]",
      "text/plain": [
       "<Figure size 1000x600 with 1 Axes>"
      ]
     },
     "metadata": {},
     "output_type": "display_data"
    }
   ],
   "source": [
    "feature_importances = pd.Series(rf_model.feature_importances_, index=X.columns)\n",
    "plt.figure(figsize=(10, 6))\n",
    "feature_importances.nlargest(10).plot(kind='barh')\n",
    "plt.xlabel('Feature Importance')\n",
    "plt.title('Top 10 Feature Importances (Random Forest)')\n",
    "plt.show()"
   ]
  }
 ],
 "metadata": {
  "colab": {
   "authorship_tag": "ABX9TyPi9/hMyadpfjB34Add7cyE",
   "include_colab_link": true,
   "mount_file_id": "1uuFeQTyBTYWk3Qw1SRpCmLsb1zhXdg3K",
   "provenance": []
  },
  "kernelspec": {
   "display_name": "Python 3 (ipykernel)",
   "language": "python",
   "name": "python3"
  },
  "language_info": {
   "codemirror_mode": {
    "name": "ipython",
    "version": 3
   },
   "file_extension": ".py",
   "mimetype": "text/x-python",
   "name": "python",
   "nbconvert_exporter": "python",
   "pygments_lexer": "ipython3",
   "version": "3.11.5"
  },
  "varInspector": {
   "cols": {
    "lenName": 16,
    "lenType": 16,
    "lenVar": 40
   },
   "kernels_config": {
    "python": {
     "delete_cmd_postfix": "",
     "delete_cmd_prefix": "del ",
     "library": "var_list.py",
     "varRefreshCmd": "print(var_dic_list())"
    },
    "r": {
     "delete_cmd_postfix": ") ",
     "delete_cmd_prefix": "rm(",
     "library": "var_list.r",
     "varRefreshCmd": "cat(var_dic_list()) "
    }
   },
   "types_to_exclude": [
    "module",
    "function",
    "builtin_function_or_method",
    "instance",
    "_Feature"
   ],
   "window_display": false
  }
 },
 "nbformat": 4,
 "nbformat_minor": 1
}
